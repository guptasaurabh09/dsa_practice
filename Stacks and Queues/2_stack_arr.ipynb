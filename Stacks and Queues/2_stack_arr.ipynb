{
 "cells": [
  {
   "cell_type": "code",
   "execution_count": 13,
   "id": "eb2f2d91",
   "metadata": {},
   "outputs": [],
   "source": [
    "#Implement 2 stack in an array."
   ]
  },
  {
   "cell_type": "code",
   "execution_count": 14,
   "id": "d483605b",
   "metadata": {},
   "outputs": [],
   "source": [
    "class twostack:\n",
    "    def __init__(self,n):\n",
    "        self.size=n\n",
    "        self.top1=-1\n",
    "        self.top2=n\n",
    "        self.arr=[None]*n\n",
    "        \n",
    "    def push1(self,x):\n",
    "        if self.top1<self.top2-1:\n",
    "            self.top1=self.top1+1\n",
    "            self.arr[self.top1]=x\n",
    "            print(self.arr)\n",
    "        else:\n",
    "            exit()\n",
    "    def push2(self,x):\n",
    "        if self.top1<self.top2-1:\n",
    "            self.top2=self.top2-1\n",
    "            self.arr[self.top2]=x\n",
    "            print(self.arr)\n",
    "        else:\n",
    "            exit()\n",
    "    def pop1(self):\n",
    "        if self.top1>0:\n",
    "            print(self.arr[self.top1])\n",
    "            self.arr[self.top1]=None\n",
    "            self.top1=self.top1-1\n",
    "            print(self.arr)\n",
    "            \n",
    "        else:\n",
    "            exit()\n",
    "    def pop2(self):\n",
    "        if self.top2<self.size:\n",
    "            print(self.arr[self.top2])\n",
    "            self.arr[self.top2]=None\n",
    "            self.top1=self.top2+1\n",
    "            print(self.arr)\n",
    "            \n",
    "        else:\n",
    "            exit()\n",
    "            \n",
    "            \n",
    "    "
   ]
  },
  {
   "cell_type": "code",
   "execution_count": 15,
   "id": "784d544b",
   "metadata": {},
   "outputs": [
    {
     "name": "stdout",
     "output_type": "stream",
     "text": [
      "[8, None, None, None, None, None]\n",
      "[8, 22, None, None, None, None]\n",
      "[8, 22, 2, None, None, None]\n",
      "[8, 22, 2, None, None, 66]\n",
      "[8, 22, 2, None, 6, 66]\n",
      "2\n",
      "[8, 22, None, None, 6, 66]\n",
      "22\n",
      "[8, None, None, None, 6, 66]\n",
      "6\n",
      "[8, None, None, None, None, 66]\n"
     ]
    }
   ],
   "source": [
    "a=twostack(6)\n",
    "a.push1(8)\n",
    "a.push1(22)\n",
    "a.push1(2)\n",
    "a.push2(66)\n",
    "a.push2(6)\n",
    "a.pop1()\n",
    "a.pop1()\n",
    "a.pop2()"
   ]
  },
  {
   "cell_type": "code",
   "execution_count": null,
   "id": "7a37d22a",
   "metadata": {},
   "outputs": [],
   "source": []
  }
 ],
 "metadata": {
  "kernelspec": {
   "display_name": "Python 3 (ipykernel)",
   "language": "python",
   "name": "python3"
  },
  "language_info": {
   "codemirror_mode": {
    "name": "ipython",
    "version": 3
   },
   "file_extension": ".py",
   "mimetype": "text/x-python",
   "name": "python",
   "nbconvert_exporter": "python",
   "pygments_lexer": "ipython3",
   "version": "3.11.7"
  }
 },
 "nbformat": 4,
 "nbformat_minor": 5
}
