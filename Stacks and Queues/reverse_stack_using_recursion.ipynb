{
 "cells": [
  {
   "cell_type": "code",
   "execution_count": 13,
   "id": "28b331db",
   "metadata": {},
   "outputs": [],
   "source": [
    "def insert(s,n):\n",
    "    if len(s)==0:\n",
    "        s.append(n)\n",
    "    else:\n",
    "        x=s.pop()\n",
    "        insert(s,n)\n",
    "        s.append(x)\n",
    "   \n",
    "    return s\n",
    "\n"
   ]
  },
  {
   "cell_type": "code",
   "execution_count": 14,
   "id": "9c7413d8",
   "metadata": {},
   "outputs": [],
   "source": [
    "def sort(s):\n",
    "    if len(s)!=0:\n",
    "        \n",
    "        y=s.pop()\n",
    "        sort(s)\n",
    "        insert(s,y)"
   ]
  },
  {
   "cell_type": "code",
   "execution_count": 15,
   "id": "053767bf",
   "metadata": {},
   "outputs": [],
   "source": [
    "S = []\n",
    "S.append(5)\n",
    "S.append(4)\n",
    "S.append(3)\n",
    "S.append(2)\n",
    "S.append(1)"
   ]
  },
  {
   "cell_type": "code",
   "execution_count": 16,
   "id": "9fec605a",
   "metadata": {},
   "outputs": [
    {
     "data": {
      "text/plain": [
       "[5, 4, 3, 2, 1]"
      ]
     },
     "execution_count": 16,
     "metadata": {},
     "output_type": "execute_result"
    }
   ],
   "source": [
    "S"
   ]
  },
  {
   "cell_type": "code",
   "execution_count": 17,
   "id": "3ff82c06",
   "metadata": {},
   "outputs": [],
   "source": [
    "sort(S)"
   ]
  },
  {
   "cell_type": "code",
   "execution_count": 18,
   "id": "5cff362e",
   "metadata": {},
   "outputs": [
    {
     "data": {
      "text/plain": [
       "[1, 2, 3, 4, 5]"
      ]
     },
     "execution_count": 18,
     "metadata": {},
     "output_type": "execute_result"
    }
   ],
   "source": [
    "S"
   ]
  },
  {
   "cell_type": "code",
   "execution_count": null,
   "id": "3ffe3d4e",
   "metadata": {},
   "outputs": [],
   "source": []
  }
 ],
 "metadata": {
  "kernelspec": {
   "display_name": "Python 3 (ipykernel)",
   "language": "python",
   "name": "python3"
  },
  "language_info": {
   "codemirror_mode": {
    "name": "ipython",
    "version": 3
   },
   "file_extension": ".py",
   "mimetype": "text/x-python",
   "name": "python",
   "nbconvert_exporter": "python",
   "pygments_lexer": "ipython3",
   "version": "3.11.7"
  }
 },
 "nbformat": 4,
 "nbformat_minor": 5
}
