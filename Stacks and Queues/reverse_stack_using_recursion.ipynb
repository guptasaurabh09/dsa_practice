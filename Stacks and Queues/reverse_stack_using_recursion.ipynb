{
 "cells": [
  {
   "cell_type": "code",
   "execution_count": 5,
   "id": "28b331db",
   "metadata": {},
   "outputs": [],
   "source": [
    "def recursive(S):\n",
    "    if len(S)==0:\n",
    "        return S\n",
    "    x=S[0]\n",
    "    S.pop(0)\n",
    "    recursive(S)\n",
    "    S.append(x)\n",
    "    return S"
   ]
  },
  {
   "cell_type": "code",
   "execution_count": 6,
   "id": "9c7413d8",
   "metadata": {},
   "outputs": [],
   "source": [
    "def reverse(S):\n",
    "    S=recursive(S)\n",
    "    \n",
    "    print(S)"
   ]
  },
  {
   "cell_type": "code",
   "execution_count": 7,
   "id": "053767bf",
   "metadata": {},
   "outputs": [],
   "source": [
    "S = []\n",
    "S.append(5)\n",
    "S.append(4)\n",
    "S.append(3)\n",
    "S.append(2)\n",
    "S.append(1)"
   ]
  },
  {
   "cell_type": "code",
   "execution_count": 8,
   "id": "3ff82c06",
   "metadata": {},
   "outputs": [
    {
     "name": "stdout",
     "output_type": "stream",
     "text": [
      "[5, 4, 3, 2, 1]\n"
     ]
    }
   ],
   "source": [
    "reverse(S)"
   ]
  },
  {
   "cell_type": "code",
   "execution_count": null,
   "id": "5cff362e",
   "metadata": {},
   "outputs": [],
   "source": []
  }
 ],
 "metadata": {
  "kernelspec": {
   "display_name": "Python 3 (ipykernel)",
   "language": "python",
   "name": "python3"
  },
  "language_info": {
   "codemirror_mode": {
    "name": "ipython",
    "version": 3
   },
   "file_extension": ".py",
   "mimetype": "text/x-python",
   "name": "python",
   "nbconvert_exporter": "python",
   "pygments_lexer": "ipython3",
   "version": "3.11.7"
  }
 },
 "nbformat": 4,
 "nbformat_minor": 5
}
