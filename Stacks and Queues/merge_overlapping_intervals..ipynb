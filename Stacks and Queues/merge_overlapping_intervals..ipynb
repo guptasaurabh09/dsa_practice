{
 "cells": [
  {
   "cell_type": "code",
   "execution_count": 5,
   "id": "b16daa22",
   "metadata": {},
   "outputs": [],
   "source": [
    "def merge_overlapping(arr):\n",
    "    arr.sort()\n",
    "    stack=[]\n",
    "    stack.append(arr[0])\n",
    "    for i in arr[1:]:\n",
    "        if stack[-1][0]<=i[0]<=stack[-1][-1]:\n",
    "            stack[-1][-1]=max(i[-1],stack[-1][-1])\n",
    "        else:\n",
    "            stack.append(i)\n",
    "    return stack"
   ]
  },
  {
   "cell_type": "code",
   "execution_count": 6,
   "id": "f65d0e2b",
   "metadata": {},
   "outputs": [
    {
     "data": {
      "text/plain": [
       "[[1, 9]]"
      ]
     },
     "execution_count": 6,
     "metadata": {},
     "output_type": "execute_result"
    }
   ],
   "source": [
    "arr = [[6, 8], [1, 9], [2, 4], [4, 7]]\n",
    "merge_overlapping(arr)"
   ]
  },
  {
   "cell_type": "code",
   "execution_count": 43,
   "id": "0b122c8e",
   "metadata": {},
   "outputs": [],
   "source": [
    "arr =[[1,3],[2,4],[6,8],[9,10]]"
   ]
  },
  {
   "cell_type": "code",
   "execution_count": 8,
   "id": "90f7ba59",
   "metadata": {},
   "outputs": [
    {
     "data": {
      "text/plain": [
       "[[1, 4], [6, 8], [9, 10]]"
      ]
     },
     "execution_count": 8,
     "metadata": {},
     "output_type": "execute_result"
    }
   ],
   "source": [
    "merge_overlapping(arr)"
   ]
  },
  {
   "cell_type": "code",
   "execution_count": 44,
   "id": "87c74a48",
   "metadata": {},
   "outputs": [],
   "source": [
    "def merge_overlapping_nostack(arr):\n",
    "    arr.sort(key=lambda x: x[0])\n",
    "    print(arr)\n",
    "    index=0\n",
    "\n",
    "    for i in range(1,len(arr)):\n",
    "        print(arr[i][0])\n",
    "        if arr[i][0]<=arr[index][1]:\n",
    "            arr[index][1]=max(arr[i][1],arr[index][1])\n",
    "        else:\n",
    "            index=index+1\n",
    "    return arr"
   ]
  },
  {
   "cell_type": "code",
   "execution_count": 45,
   "id": "f0bd9721",
   "metadata": {},
   "outputs": [
    {
     "name": "stdout",
     "output_type": "stream",
     "text": [
      "[[1, 3], [2, 4], [6, 8], [9, 10]]\n",
      "2\n",
      "6\n",
      "9\n"
     ]
    },
    {
     "data": {
      "text/plain": [
       "[[1, 4], [2, 4], [6, 8], [9, 10]]"
      ]
     },
     "execution_count": 45,
     "metadata": {},
     "output_type": "execute_result"
    }
   ],
   "source": [
    "merge_overlapping_nostack(arr)"
   ]
  },
  {
   "cell_type": "code",
   "execution_count": 27,
   "id": "d90931f2",
   "metadata": {},
   "outputs": [],
   "source": [
    "arr =[[1,3],[2,4],[6,8],[9,10]]"
   ]
  },
  {
   "cell_type": "code",
   "execution_count": 32,
   "id": "920c9250",
   "metadata": {},
   "outputs": [
    {
     "name": "stdout",
     "output_type": "stream",
     "text": [
      "The Merged Intervals are : [1, 4] [6, 8] [9, 10] "
     ]
    }
   ],
   "source": [
    "mergeIntervals(arr)"
   ]
  },
  {
   "cell_type": "code",
   "execution_count": 31,
   "id": "6d218f20",
   "metadata": {},
   "outputs": [],
   "source": [
    "def mergeIntervals(arr):\n",
    " \n",
    "    # Sorting based on the increasing order\n",
    "    # of the start intervals\n",
    "    arr.sort(key=lambda x: x[0])\n",
    " \n",
    "    # Stores index of last element\n",
    "    # in output array (modified arr[])\n",
    "    index = 0\n",
    " \n",
    "    # Traverse all input Intervals starting from\n",
    "    # second interval\n",
    "    for i in range(1, len(arr)):\n",
    " \n",
    "        # If this is not first Interval and overlaps\n",
    "        # with the previous one, Merge previous and\n",
    "        # current Intervals\n",
    "        if (arr[index][1] >= arr[i][0]):\n",
    "            arr[index][1] = max(arr[index][1], arr[i][1])\n",
    "        else:\n",
    "            index = index + 1\n",
    "            arr[index] = arr[i]\n",
    " \n",
    "    print(\"The Merged Intervals are :\", end=\" \")\n",
    "    for i in range(index+1):\n",
    "        print(arr[i], end=\" \")"
   ]
  },
  {
   "cell_type": "code",
   "execution_count": null,
   "id": "2a96c2fe",
   "metadata": {},
   "outputs": [],
   "source": []
  }
 ],
 "metadata": {
  "kernelspec": {
   "display_name": "Python 3 (ipykernel)",
   "language": "python",
   "name": "python3"
  },
  "language_info": {
   "codemirror_mode": {
    "name": "ipython",
    "version": 3
   },
   "file_extension": ".py",
   "mimetype": "text/x-python",
   "name": "python",
   "nbconvert_exporter": "python",
   "pygments_lexer": "ipython3",
   "version": "3.11.7"
  }
 },
 "nbformat": 4,
 "nbformat_minor": 5
}
