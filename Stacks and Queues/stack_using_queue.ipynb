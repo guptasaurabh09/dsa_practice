{
 "cells": [
  {
   "cell_type": "code",
   "execution_count": 3,
   "id": "a44fe16b",
   "metadata": {},
   "outputs": [],
   "source": [
    "from _collections import deque\n",
    "\n",
    "class Stack:\n",
    "    def __init__(self):\n",
    "        self.q=deque()\n",
    "    def push(self,data):\n",
    "        s=len(self.q)\n",
    "        self.q.append(data)\n",
    "        for i in range(s):\n",
    "            self.q.append(self.q.popleft())\n",
    "    def pop(self):\n",
    "        if not self.q:\n",
    "            return \"Empty\"\n",
    "        else:\n",
    "            return self.q.popleft()\n",
    "    def top(self):\n",
    "        if not self.q:\n",
    "            return \"Empty\"\n",
    "        else:\n",
    "            return self.q[0]\n",
    "    def size(self):\n",
    "        if not self.q:\n",
    "            return \"Empty\"\n",
    "        else:\n",
    "            return len(self.q)"
   ]
  },
  {
   "cell_type": "code",
   "execution_count": 4,
   "id": "f61bd97a",
   "metadata": {},
   "outputs": [
    {
     "name": "stdout",
     "output_type": "stream",
     "text": [
      "current size:  3\n",
      "3\n",
      "2\n",
      "1\n",
      "current size:  1\n"
     ]
    }
   ],
   "source": [
    "if __name__ == '__main__':\n",
    "    st = Stack()\n",
    "    st.push(1)\n",
    "    st.push(2)\n",
    "    st.push(3)\n",
    "    print(\"current size: \", st.size())\n",
    "    print(st.top())\n",
    "    st.pop()\n",
    "    print(st.top())\n",
    "    st.pop()\n",
    "    print(st.top())\n",
    "    print(\"current size: \", st.size())"
   ]
  },
  {
   "cell_type": "code",
   "execution_count": null,
   "id": "8234814f",
   "metadata": {},
   "outputs": [],
   "source": []
  }
 ],
 "metadata": {
  "kernelspec": {
   "display_name": "Python 3 (ipykernel)",
   "language": "python",
   "name": "python3"
  },
  "language_info": {
   "codemirror_mode": {
    "name": "ipython",
    "version": 3
   },
   "file_extension": ".py",
   "mimetype": "text/x-python",
   "name": "python",
   "nbconvert_exporter": "python",
   "pygments_lexer": "ipython3",
   "version": "3.11.7"
  }
 },
 "nbformat": 4,
 "nbformat_minor": 5
}
