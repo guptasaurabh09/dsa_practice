{
 "cells": [
  {
   "cell_type": "code",
   "execution_count": 25,
   "id": "fec8dbcc",
   "metadata": {},
   "outputs": [],
   "source": [
    "class kstack:\n",
    "    def __init__(self,n,k):\n",
    "        self.size=n\n",
    "        self.k=k\n",
    "        self.top=[-1]*k\n",
    "        self.arr=[None]*n\n",
    "        self.queue=list(range(1,n+1))\n",
    "        self.queue[- 1] = -1\n",
    "        self.free=0\n",
    "        print(self.queue)\n",
    "    def push(self,t,value):\n",
    "        \n",
    "        insert_at=self.free\n",
    "        self.arr[insert_at]=value\n",
    "        self.free=self.queue[insert_at]\n",
    "        self.queue[insert_at]=self.top[t]\n",
    "        self.top[t]=insert_at\n",
    "        \n",
    "        print(self.arr)\n",
    "        print(self.top)\n",
    "        print(self.queue)\n",
    "        print(self.free)\n",
    "    def pop(self,t):\n",
    "        to_remove=self.top[t]\n",
    "        self.arr[to_remove]=None\n",
    "        self.top[t]=self.queue[self.top[t]]\n",
    "        self.queue[to_remove]=self.free\n",
    "        self.free=to_remove\n",
    "        print(self.arr)\n",
    "        print(self.top)\n",
    "        print(self.queue)\n",
    "        print(self.free)\n",
    "        \n",
    "        \n",
    "        "
   ]
  },
  {
   "cell_type": "code",
   "execution_count": 26,
   "id": "46deea94",
   "metadata": {},
   "outputs": [
    {
     "name": "stdout",
     "output_type": "stream",
     "text": [
      "[1, -1]\n"
     ]
    }
   ],
   "source": [
    "s=kstack(2,1)"
   ]
  },
  {
   "cell_type": "code",
   "execution_count": 31,
   "id": "8884a25c",
   "metadata": {},
   "outputs": [
    {
     "name": "stdout",
     "output_type": "stream",
     "text": [
      "['1', None]\n",
      "[0]\n",
      "[-1, -1]\n",
      "1\n"
     ]
    }
   ],
   "source": [
    "s.push(0,'1')"
   ]
  },
  {
   "cell_type": "code",
   "execution_count": 32,
   "id": "3275f8c8",
   "metadata": {},
   "outputs": [
    {
     "name": "stdout",
     "output_type": "stream",
     "text": [
      "['1', '2']\n",
      "[1]\n",
      "[-1, 0]\n",
      "-1\n"
     ]
    }
   ],
   "source": [
    "s.push(0,'2')"
   ]
  },
  {
   "cell_type": "code",
   "execution_count": 33,
   "id": "43819386",
   "metadata": {},
   "outputs": [
    {
     "name": "stdout",
     "output_type": "stream",
     "text": [
      "['1', None]\n",
      "[0]\n",
      "[-1, -1]\n",
      "1\n"
     ]
    }
   ],
   "source": [
    "s.pop(0)"
   ]
  },
  {
   "cell_type": "code",
   "execution_count": 34,
   "id": "1dcb2f11",
   "metadata": {},
   "outputs": [
    {
     "name": "stdout",
     "output_type": "stream",
     "text": [
      "[None, None]\n",
      "[-1]\n",
      "[1, -1]\n",
      "0\n"
     ]
    }
   ],
   "source": [
    "s.pop(0)"
   ]
  },
  {
   "cell_type": "code",
   "execution_count": 23,
   "id": "7d8dbf82",
   "metadata": {},
   "outputs": [
    {
     "name": "stdout",
     "output_type": "stream",
     "text": [
      "['1', None, None, None, None, None]\n",
      "[0, -1, -1]\n",
      "[-1, 2, 3, 4, 5, -1]\n",
      "1\n",
      "['1', 's', None, None, None, None]\n",
      "[0, 1, -1]\n",
      "[-1, -1, 3, 4, 5, -1]\n",
      "2\n",
      "['1', 's', '%', None, None, None]\n",
      "[0, 1, 2]\n",
      "[-1, -1, -1, 4, 5, -1]\n",
      "3\n",
      "['1', 's', '%', '3', None, None]\n",
      "[3, 1, 2]\n",
      "[-1, -1, -1, 0, 5, -1]\n",
      "4\n",
      "['1', 's', '%', '3', 'f', None]\n",
      "[3, 4, 2]\n",
      "[-1, -1, -1, 0, 1, -1]\n",
      "5\n",
      "['1', 's', '%', '3', 'f', '^']\n",
      "[3, 4, 5]\n",
      "[-1, -1, -1, 0, 1, 2]\n",
      "-1\n"
     ]
    }
   ],
   "source": [
    "s.push(0,'1')\n",
    "s.push(1,'s')\n",
    "s.push(2,'%')\n",
    "\n",
    "s.push(0,'3')\n",
    "s.push(1,'f')\n",
    "s.push(2,'^')"
   ]
  },
  {
   "cell_type": "code",
   "execution_count": 24,
   "id": "075f2f9c",
   "metadata": {},
   "outputs": [
    {
     "name": "stdout",
     "output_type": "stream",
     "text": [
      "['1', 's', '%', '3', None, '^']\n",
      "[3, 1, 5]\n",
      "[-1, -1, -1, 0, -1, 2]\n",
      "4\n",
      "['1', None, '%', '3', None, '^']\n",
      "[3, -1, 5]\n",
      "[-1, 4, -1, 0, -1, 2]\n",
      "1\n",
      "['1', None, '%', None, None, '^']\n",
      "[0, -1, 5]\n",
      "[-1, 4, -1, 1, -1, 2]\n",
      "3\n",
      "['1', None, '%', '5', None, '^']\n",
      "[3, -1, 5]\n",
      "[-1, 4, -1, 0, -1, 2]\n",
      "1\n",
      "['1', 's', '%', '5', None, '^']\n",
      "[3, 1, 5]\n",
      "[-1, -1, -1, 0, -1, 2]\n",
      "4\n"
     ]
    }
   ],
   "source": [
    "s.pop(1)\n",
    "s.pop(1)\n",
    "s.pop(0)\n",
    "s.push(0,'5')\n",
    "s.push(1,'s')"
   ]
  },
  {
   "cell_type": "code",
   "execution_count": null,
   "id": "ed8a56c0",
   "metadata": {},
   "outputs": [],
   "source": []
  },
  {
   "cell_type": "code",
   "execution_count": null,
   "id": "515ab3d1",
   "metadata": {},
   "outputs": [],
   "source": []
  },
  {
   "cell_type": "code",
   "execution_count": null,
   "id": "eac68033",
   "metadata": {},
   "outputs": [],
   "source": []
  },
  {
   "cell_type": "code",
   "execution_count": null,
   "id": "d8a96c19",
   "metadata": {},
   "outputs": [],
   "source": []
  },
  {
   "cell_type": "code",
   "execution_count": null,
   "id": "36464354",
   "metadata": {},
   "outputs": [],
   "source": []
  },
  {
   "cell_type": "code",
   "execution_count": null,
   "id": "77064cf8",
   "metadata": {},
   "outputs": [],
   "source": []
  },
  {
   "cell_type": "code",
   "execution_count": null,
   "id": "1421e1c3",
   "metadata": {},
   "outputs": [],
   "source": []
  }
 ],
 "metadata": {
  "kernelspec": {
   "display_name": "Python 3 (ipykernel)",
   "language": "python",
   "name": "python3"
  },
  "language_info": {
   "codemirror_mode": {
    "name": "ipython",
    "version": 3
   },
   "file_extension": ".py",
   "mimetype": "text/x-python",
   "name": "python",
   "nbconvert_exporter": "python",
   "pygments_lexer": "ipython3",
   "version": "3.11.7"
  }
 },
 "nbformat": 4,
 "nbformat_minor": 5
}
