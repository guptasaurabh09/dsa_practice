{
 "cells": [
  {
   "cell_type": "code",
   "execution_count": 7,
   "id": "69448ca6",
   "metadata": {},
   "outputs": [],
   "source": [
    "def insert(s,n):\n",
    "    if len(s)==0 or s[-1]<n:\n",
    "        s.append(n)\n",
    "    else:\n",
    "        x=s[-1]\n",
    "        s.pop()\n",
    "        insert(s,n)\n",
    "        s.append(x)\n",
    "        \n",
    "    return s\n",
    "\n",
    "\n",
    "        "
   ]
  },
  {
   "cell_type": "code",
   "execution_count": 8,
   "id": "c73407cf",
   "metadata": {},
   "outputs": [],
   "source": [
    "def sort(s):\n",
    "    if len(s)!=0:\n",
    "        \n",
    "        y=s.pop()\n",
    "        sort(s)\n",
    "        insert(s,y)\n",
    "    "
   ]
  },
  {
   "cell_type": "code",
   "execution_count": 9,
   "id": "02a6637a",
   "metadata": {},
   "outputs": [],
   "source": [
    "S = []\n",
    "S.append(4)\n",
    "S.append(2)\n",
    "S.append(3)\n",
    "S.append(5)\n",
    "S.append(1)"
   ]
  },
  {
   "cell_type": "code",
   "execution_count": 10,
   "id": "0b365fe5",
   "metadata": {},
   "outputs": [
    {
     "data": {
      "text/plain": [
       "[4, 2, 3, 5, 1]"
      ]
     },
     "execution_count": 10,
     "metadata": {},
     "output_type": "execute_result"
    }
   ],
   "source": [
    "S"
   ]
  },
  {
   "cell_type": "code",
   "execution_count": 11,
   "id": "dd65eca5",
   "metadata": {},
   "outputs": [],
   "source": [
    "sort(S)"
   ]
  },
  {
   "cell_type": "code",
   "execution_count": 12,
   "id": "5fde035a",
   "metadata": {},
   "outputs": [
    {
     "data": {
      "text/plain": [
       "[1, 2, 3, 4, 5]"
      ]
     },
     "execution_count": 12,
     "metadata": {},
     "output_type": "execute_result"
    }
   ],
   "source": [
    "S"
   ]
  },
  {
   "cell_type": "code",
   "execution_count": null,
   "id": "f3589b1d",
   "metadata": {},
   "outputs": [],
   "source": []
  }
 ],
 "metadata": {
  "kernelspec": {
   "display_name": "Python 3 (ipykernel)",
   "language": "python",
   "name": "python3"
  },
  "language_info": {
   "codemirror_mode": {
    "name": "ipython",
    "version": 3
   },
   "file_extension": ".py",
   "mimetype": "text/x-python",
   "name": "python",
   "nbconvert_exporter": "python",
   "pygments_lexer": "ipython3",
   "version": "3.11.7"
  }
 },
 "nbformat": 4,
 "nbformat_minor": 5
}
