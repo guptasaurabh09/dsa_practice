{
 "cells": [
  {
   "cell_type": "code",
   "execution_count": 10,
   "id": "69448ca6",
   "metadata": {},
   "outputs": [],
   "source": [
    "def recursive(S):\n",
    "    if len(S)==0:\n",
    "        return S\n",
    "    x=max(S)\n",
    "    S.pop(S.index(x))\n",
    "    recursive(S)\n",
    "    S.append(x)\n",
    "    return S"
   ]
  },
  {
   "cell_type": "code",
   "execution_count": 14,
   "id": "c73407cf",
   "metadata": {},
   "outputs": [],
   "source": [
    "def sort(S):\n",
    "    S=recursive(S)\n",
    "    \n",
    "    print(S)"
   ]
  },
  {
   "cell_type": "code",
   "execution_count": 15,
   "id": "02a6637a",
   "metadata": {},
   "outputs": [],
   "source": [
    "S = []\n",
    "S.append(4)\n",
    "S.append(2)\n",
    "S.append(3)\n",
    "S.append(5)\n",
    "S.append(1)"
   ]
  },
  {
   "cell_type": "code",
   "execution_count": 16,
   "id": "dd65eca5",
   "metadata": {},
   "outputs": [
    {
     "name": "stdout",
     "output_type": "stream",
     "text": [
      "[1, 2, 3, 4, 5]\n"
     ]
    }
   ],
   "source": [
    "sort(S)"
   ]
  },
  {
   "cell_type": "code",
   "execution_count": null,
   "id": "5fde035a",
   "metadata": {},
   "outputs": [],
   "source": []
  }
 ],
 "metadata": {
  "kernelspec": {
   "display_name": "Python 3 (ipykernel)",
   "language": "python",
   "name": "python3"
  },
  "language_info": {
   "codemirror_mode": {
    "name": "ipython",
    "version": 3
   },
   "file_extension": ".py",
   "mimetype": "text/x-python",
   "name": "python",
   "nbconvert_exporter": "python",
   "pygments_lexer": "ipython3",
   "version": "3.11.7"
  }
 },
 "nbformat": 4,
 "nbformat_minor": 5
}
