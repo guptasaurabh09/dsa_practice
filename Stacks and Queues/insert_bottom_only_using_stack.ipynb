{
 "cells": [
  {
   "cell_type": "code",
   "execution_count": 10,
   "id": "c73e56ce",
   "metadata": {},
   "outputs": [],
   "source": [
    "def recursive(S,N):\n",
    "    if len(S)==0:\n",
    "        S.append(N)\n",
    "    else:\n",
    "        x=S[-1]\n",
    "        S.pop()\n",
    "        recursive(S,N)\n",
    "        S.append(x)\n",
    "    return S"
   ]
  },
  {
   "cell_type": "code",
   "execution_count": 11,
   "id": "ba938932",
   "metadata": {},
   "outputs": [],
   "source": [
    "def insertbottom(S,N):\n",
    "    S=recursive(S,N)\n",
    "    \n",
    "    print(S)"
   ]
  },
  {
   "cell_type": "code",
   "execution_count": 15,
   "id": "4b1679ab",
   "metadata": {},
   "outputs": [],
   "source": [
    "S = []\n",
    "S.append(5)\n",
    "S.append(4)\n",
    "S.append(3)\n",
    "S.append(2)\n",
    "S.append(1)"
   ]
  },
  {
   "cell_type": "code",
   "execution_count": 16,
   "id": "000af1be",
   "metadata": {},
   "outputs": [
    {
     "name": "stdout",
     "output_type": "stream",
     "text": [
      "[8, 5, 4, 3, 2, 1]\n"
     ]
    }
   ],
   "source": [
    "insertbottom(S,8)"
   ]
  },
  {
   "cell_type": "code",
   "execution_count": null,
   "id": "535b9763",
   "metadata": {},
   "outputs": [],
   "source": []
  }
 ],
 "metadata": {
  "kernelspec": {
   "display_name": "Python 3 (ipykernel)",
   "language": "python",
   "name": "python3"
  },
  "language_info": {
   "codemirror_mode": {
    "name": "ipython",
    "version": 3
   },
   "file_extension": ".py",
   "mimetype": "text/x-python",
   "name": "python",
   "nbconvert_exporter": "python",
   "pygments_lexer": "ipython3",
   "version": "3.11.7"
  }
 },
 "nbformat": 4,
 "nbformat_minor": 5
}
