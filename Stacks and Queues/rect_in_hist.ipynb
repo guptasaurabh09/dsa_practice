{
 "cells": [
  {
   "cell_type": "code",
   "execution_count": 7,
   "id": "12a20e58",
   "metadata": {},
   "outputs": [],
   "source": [
    "def longhist(hist):\n",
    "    maxArea=0\n",
    "    stack=[]\n",
    "    \n",
    "    for i,h in enumerate(hist):\n",
    "        start=i\n",
    "        while stack and stack[-1][1]>h:\n",
    "            index,height=stack.pop()\n",
    "            maxArea=max(maxArea,height*(i-index))\n",
    "            start=index\n",
    "        stack.append((start,h))\n",
    "        \n",
    "    for i,h in stack:\n",
    "        maxArea=max(maxArea,h*(len(hist)-i))\n",
    "        \n",
    "    return maxArea"
   ]
  },
  {
   "cell_type": "code",
   "execution_count": 8,
   "id": "4e2c1906",
   "metadata": {},
   "outputs": [
    {
     "name": "stdout",
     "output_type": "stream",
     "text": [
      "Maximum area is 12\n"
     ]
    }
   ],
   "source": [
    "if __name__ == '__main__':\n",
    "    hist = [6, 2, 5, 4, 5, 1, 6]\n",
    "\n",
    "    # Function call\n",
    "    print(\"Maximum area is\",longhist(hist))"
   ]
  },
  {
   "cell_type": "code",
   "execution_count": null,
   "id": "2b5a726d",
   "metadata": {},
   "outputs": [],
   "source": []
  }
 ],
 "metadata": {
  "kernelspec": {
   "display_name": "Python 3 (ipykernel)",
   "language": "python",
   "name": "python3"
  },
  "language_info": {
   "codemirror_mode": {
    "name": "ipython",
    "version": 3
   },
   "file_extension": ".py",
   "mimetype": "text/x-python",
   "name": "python",
   "nbconvert_exporter": "python",
   "pygments_lexer": "ipython3",
   "version": "3.11.7"
  }
 },
 "nbformat": 4,
 "nbformat_minor": 5
}
